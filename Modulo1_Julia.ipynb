{
 "cells": [
  {
   "cell_type": "markdown",
   "id": "097b2ff7",
   "metadata": {},
   "source": [
    "## <center> <span style= \"color:blue\"> XXXVIII - Semana de Estatística - UFAM  </center>\n",
    "### <center> <span style= \"color:blue\">20 a 22 de outubro de 2021</center>\n",
    "\n",
    "\n",
    "\n",
    "\n",
    "\n",
    "# <center>Introdução à Linguagem de Programação Julia </center>\n",
    "\n",
    "#### <center>  *Amazoneida Sá Peixoto Pinheiro* \n",
    "<center> Profa. Associada Depto. Estatística - ICE - UFAM "
   ]
  },
  {
   "cell_type": "markdown",
   "id": "da7e7ccd",
   "metadata": {},
   "source": [
    "## <span style= \"color:red\"> Módulo-I\n",
    "    Quinta-feira, 21/10/22 de 9 às 10 h"
   ]
  },
  {
   "cell_type": "code",
   "execution_count": null,
   "id": "ff1a8b11",
   "metadata": {},
   "outputs": [],
   "source": []
  },
  {
   "cell_type": "markdown",
   "id": "dc5bc618",
   "metadata": {},
   "source": [
    "Nesta seção trabalharemos com um conjunto de códigos básicos para execução de um programa em Julia, contendo os seguintes conteúdos:\n",
    "\n",
    "* Porque Julia é tão especial, história, característica da linguagem;\n",
    "* Começando - Como imprimir e  como comentar,\n",
    "* Atribuição de variáveis e tipos de variáveis\n",
    "* Operadores aritméticos e precedências\n",
    "* Principais funções matemáticas\n",
    "* String (atribuição, interpolação e concatenação)\n",
    "* Exercícios\n",
    "\n"
   ]
  },
  {
   "cell_type": "markdown",
   "id": "1ffd719c",
   "metadata": {},
   "source": [
    "### <span style= \"color:black\"> Por que Julia é tão especial?\n",
    "\n"
   ]
  },
  {
   "cell_type": "markdown",
   "id": "d53d9e3c",
   "metadata": {},
   "source": [
    "* Julia  é uma linguagem de programação dinâmica de alto nível projetada para atender os requisitos da computação de alto desempenho numérico e científico, sendo também eficaz para a programação de propósito geral.(Wikipedia)\n",
    "\n",
    "* A melhor maneira de começar a aprender Julia é escrever código e praticar."
   ]
  },
  {
   "cell_type": "markdown",
   "id": "ff7067b8",
   "metadata": {},
   "source": [
    "Comparação com outras linguagens\n",
    "\n",
    "#### Julia é fácil de aprender -- mas outras linguagens também são, por  exemplo Python, Matlab e R\n",
    "\n",
    "#### Julia é rápido  -- mas algumas  linguagens também o são, como C, C++,  Fortran.\n",
    "\n",
    "#### Julia é livre -- mas  também são Python, R e Octave\n",
    "\n",
    "\n",
    ".\n",
    "### <span style= \"color:red\">Mas Julia é a única que têm todas as características:\n",
    "    livre, rápida E fácil de aprender\n",
    "    \n",
    "####  Atualmente, Julia é muito empregada em Programação Científica, Ciência de Dados e bastante indicada para ensino de primeira linguagem computacional."
   ]
  },
  {
   "cell_type": "markdown",
   "id": "50127385",
   "metadata": {},
   "source": [
    "## Um pouco de história"
   ]
  },
  {
   "cell_type": "markdown",
   "id": "2870da1c",
   "metadata": {},
   "source": [
    "* 2009 --> O projeto Julia foi desenvolvido no M.I.T. por Jeff Bezanson, Stefan Karpinski, Viral B. Shah e Alan Edelman, que se propuseram a criar uma linguagem livre de alto nível e rápida.\n",
    "\n",
    "* 2012 --->    lançamento oficial\n",
    "\n",
    "* 2018 --->    lançamento da 1a. versão estável, 1.0\n",
    "\n",
    "* 2021 --->     em setembro, última versão 1.7.1\n",
    "\n",
    "* extensão ---> .jl\n",
    "\n",
    "* lisença ----> M.I.T.\n",
    "\n",
    "* Página oficial: https://julialang.org"
   ]
  },
  {
   "cell_type": "markdown",
   "id": "25521fd8",
   "metadata": {},
   "source": [
    "### Características da Linguagem\n",
    "\n",
    "* Licença pela MIT, livre e open source.\n",
    "\n",
    "* Linguagem fortemente digitada e dinâmica, escreve um código é executado quase imetiatamente;\n",
    "\n",
    "* Linguagem tipada, ou seja os valores das variáveis têm tipos, embora você não precise\n",
    "declará-los como no C;\n",
    "\n",
    "* A compilação é feita JIT, em pequenos grupos de bits\n",
    "\n",
    "* Múltiplos despachos, isto é permite funções trabalhem com múltipos envios;\n",
    "\n",
    "* Julia suporta programação paralela. É simultâneo.\n",
    "\n",
    "* Finalmente, Julia é realmente uma linguagem muito boa para usar com outras línguas, C, Python, R\n"
   ]
  },
  {
   "cell_type": "markdown",
   "id": "dc92381b",
   "metadata": {},
   "source": [
    "### Começando - Julia REPL e Jupyter Notebook"
   ]
  },
  {
   "cell_type": "code",
   "execution_count": null,
   "id": "1836290b",
   "metadata": {},
   "outputs": [],
   "source": []
  },
  {
   "cell_type": "markdown",
   "id": "8abdcc65",
   "metadata": {},
   "source": [
    "* Trabalhar no Terminal, você perceberá que não é uma opção com bom desempenho, neste curso usaremos o Jupyter Notebook. Depois de ambos instalados, digitar no terminal Julia REPL (Read-Evaluate-Print Loop), os códigos abaixo:"
   ]
  },
  {
   "cell_type": "code",
   "execution_count": 38,
   "id": "87930580",
   "metadata": {},
   "outputs": [
    {
     "data": {
      "text/plain": [
       "notebook (generic function with 1 method)"
      ]
     },
     "execution_count": 38,
     "metadata": {},
     "output_type": "execute_result"
    }
   ],
   "source": [
    "using Pkg; # adicionar pacotes\n",
    "using IJulia # adicionando o pacote para uso em notebook\n",
    "notebook"
   ]
  },
  {
   "cell_type": "code",
   "execution_count": null,
   "id": "1678bf28",
   "metadata": {},
   "outputs": [],
   "source": [
    "2+2"
   ]
  },
  {
   "cell_type": "code",
   "execution_count": 9,
   "id": "1c64740c",
   "metadata": {},
   "outputs": [],
   "source": [
    "2+2;"
   ]
  },
  {
   "cell_type": "markdown",
   "id": "d63f01b2",
   "metadata": {},
   "source": [
    "### Como imprimir\n",
    "\n",
    "In Julia, usualmente usamos a `println()` para imprimir"
   ]
  },
  {
   "cell_type": "code",
   "execution_count": 2,
   "id": "e9f30f01",
   "metadata": {},
   "outputs": [
    {
     "name": "stdout",
     "output_type": "stream",
     "text": [
      "Obrigada por você está aqui!!!\n"
     ]
    }
   ],
   "source": [
    "println(\"Obrigada por você está aqui!!!\")"
   ]
  },
  {
   "cell_type": "code",
   "execution_count": 3,
   "id": "5ee12773",
   "metadata": {},
   "outputs": [
    {
     "name": "stdout",
     "output_type": "stream",
     "text": [
      "Obrigada por você está aqui!!!"
     ]
    }
   ],
   "source": [
    "print(\"Obrigada por você está aqui!!!\")"
   ]
  },
  {
   "cell_type": "code",
   "execution_count": 17,
   "id": "37f7331f",
   "metadata": {},
   "outputs": [
    {
     "data": {
      "text/plain": [
       "\"Obrigada por você está aqui!!!\""
      ]
     },
     "metadata": {},
     "output_type": "display_data"
    }
   ],
   "source": [
    "display(\"Obrigada por você está aqui!!!\")"
   ]
  },
  {
   "cell_type": "markdown",
   "id": "0f7bd7cd",
   "metadata": {},
   "source": [
    "### Como comentar"
   ]
  },
  {
   "cell_type": "markdown",
   "id": "06fb1e83",
   "metadata": {},
   "source": [
    "* Para comentário de 1 linha usar # "
   ]
  },
  {
   "cell_type": "code",
   "execution_count": 47,
   "id": "a7fd0790",
   "metadata": {},
   "outputs": [],
   "source": [
    "# Comentário de uma linha "
   ]
  },
  {
   "cell_type": "code",
   "execution_count": 48,
   "id": "6ca502f0",
   "metadata": {},
   "outputs": [],
   "source": [
    "#= Comentários de várias linhas =#"
   ]
  },
  {
   "cell_type": "markdown",
   "id": "52b7848e",
   "metadata": {},
   "source": [
    "###  Atribuir valores a variáveis e os Tipos de valores\n",
    "\n",
    "Precisamos que as variáveis tenham nome, valor e um sinal de igual\n",
    "\n",
    "Julia mostrará para nós o tipo da variável"
   ]
  },
  {
   "cell_type": "markdown",
   "id": "0b3a147b",
   "metadata": {},
   "source": [
    "### Você pode quase sempre ignorar TIPOS quando escrever códigos em Julia"
   ]
  },
  {
   "cell_type": "code",
   "execution_count": 4,
   "id": "ad8aeba5",
   "metadata": {},
   "outputs": [
    {
     "data": {
      "text/plain": [
       "Int64"
      ]
     },
     "execution_count": 4,
     "metadata": {},
     "output_type": "execute_result"
    }
   ],
   "source": [
    "minha_nota=8\n",
    "typeof(minha_nota)"
   ]
  },
  {
   "cell_type": "code",
   "execution_count": 5,
   "id": "c8c053fd",
   "metadata": {},
   "outputs": [
    {
     "data": {
      "text/plain": [
       "π = 3.1415926535897..."
      ]
     },
     "execution_count": 5,
     "metadata": {},
     "output_type": "execute_result"
    }
   ],
   "source": [
    "π"
   ]
  },
  {
   "cell_type": "code",
   "execution_count": 6,
   "id": "49362c1e",
   "metadata": {},
   "outputs": [
    {
     "data": {
      "text/plain": [
       "Float64"
      ]
     },
     "execution_count": 6,
     "metadata": {},
     "output_type": "execute_result"
    }
   ],
   "source": [
    "pi = 3.14159\n",
    "typeof(pi)"
   ]
  },
  {
   "cell_type": "code",
   "execution_count": 9,
   "id": "cade836a",
   "metadata": {},
   "outputs": [
    {
     "data": {
      "text/plain": [
       "-3.0"
      ]
     },
     "execution_count": 9,
     "metadata": {},
     "output_type": "execute_result"
    }
   ],
   "source": [
    "# múltiplo atributo\n",
    "x,μ,σ = 2,5,1\n",
    "z=(x-μ)/ σ"
   ]
  },
  {
   "cell_type": "code",
   "execution_count": 10,
   "id": "cedea39f",
   "metadata": {},
   "outputs": [
    {
     "data": {
      "text/plain": [
       "String"
      ]
     },
     "execution_count": 10,
     "metadata": {},
     "output_type": "execute_result"
    }
   ],
   "source": [
    "😺 = \"Eu sou uma gatinha\"\n",
    "typeof(😺)"
   ]
  },
  {
   "cell_type": "code",
   "execution_count": 24,
   "id": "bda5a17a",
   "metadata": {},
   "outputs": [],
   "source": [
    "# \\:smi + <tab> --> selecione  com setas  para baixo + <enter> ---> <tab> + <enter> para completar  "
   ]
  },
  {
   "cell_type": "code",
   "execution_count": 12,
   "id": "5ebb7409",
   "metadata": {},
   "outputs": [
    {
     "data": {
      "text/plain": [
       "Int64"
      ]
     },
     "execution_count": 12,
     "metadata": {},
     "output_type": "execute_result"
    }
   ],
   "source": [
    "❤  = 1\n",
    "😸 = -2\n",
    "typeof(❤ + 😸 )"
   ]
  },
  {
   "cell_type": "code",
   "execution_count": 32,
   "id": "947fa013",
   "metadata": {},
   "outputs": [
    {
     "data": {
      "text/plain": [
       "false"
      ]
     },
     "execution_count": 32,
     "metadata": {},
     "output_type": "execute_result"
    }
   ],
   "source": [
    "❤ + 😸 == 1 # comparação"
   ]
  },
  {
   "cell_type": "code",
   "execution_count": 40,
   "id": "05691eb7",
   "metadata": {},
   "outputs": [
    {
     "data": {
      "text/plain": [
       "Char"
      ]
     },
     "execution_count": 40,
     "metadata": {},
     "output_type": "execute_result"
    }
   ],
   "source": [
    "'a'\n",
    "typeof('a')"
   ]
  },
  {
   "cell_type": "code",
   "execution_count": 14,
   "id": "ea8f8e03",
   "metadata": {},
   "outputs": [
    {
     "data": {
      "text/plain": [
       "5"
      ]
     },
     "execution_count": 14,
     "metadata": {},
     "output_type": "execute_result"
    }
   ],
   "source": [
    "+(2,3)"
   ]
  },
  {
   "cell_type": "markdown",
   "id": "9cd5646b",
   "metadata": {},
   "source": [
    "### Operadores aritméticos"
   ]
  },
  {
   "cell_type": "markdown",
   "id": "bab363f2",
   "metadata": {},
   "source": [
    "* Os operadores em Julia são:```+```, ```-```, ```/``` e ```*```."
   ]
  },
  {
   "cell_type": "code",
   "execution_count": 15,
   "id": "678ca0d5",
   "metadata": {},
   "outputs": [
    {
     "data": {
      "text/plain": [
       "Float64"
      ]
     },
     "execution_count": 15,
     "metadata": {},
     "output_type": "execute_result"
    }
   ],
   "source": [
    "# Soma\n",
    "soma = 2 + 100.\n",
    "typeof(soma)"
   ]
  },
  {
   "cell_type": "code",
   "execution_count": 16,
   "id": "dcd56388",
   "metadata": {},
   "outputs": [
    {
     "data": {
      "text/plain": [
       "-11"
      ]
     },
     "execution_count": 16,
     "metadata": {},
     "output_type": "execute_result"
    }
   ],
   "source": [
    "# Diferença\n",
    "diferença = 9 - 20"
   ]
  },
  {
   "cell_type": "code",
   "execution_count": 19,
   "id": "69276ac1",
   "metadata": {},
   "outputs": [
    {
     "data": {
      "text/plain": [
       "31.41592653589793"
      ]
     },
     "execution_count": 19,
     "metadata": {},
     "output_type": "execute_result"
    }
   ],
   "source": [
    "# Produto\n",
    "produto = π * 5\n",
    "produto = 2π * 5\n"
   ]
  },
  {
   "cell_type": "code",
   "execution_count": 20,
   "id": "b3a7cdd8",
   "metadata": {},
   "outputs": [
    {
     "data": {
      "text/plain": [
       "5.0"
      ]
     },
     "execution_count": 20,
     "metadata": {},
     "output_type": "execute_result"
    }
   ],
   "source": [
    "# Quociente \n",
    "quociente = μ /σ"
   ]
  },
  {
   "cell_type": "code",
   "execution_count": 45,
   "id": "e9ede6f2",
   "metadata": {},
   "outputs": [
    {
     "data": {
      "text/plain": [
       "2"
      ]
     },
     "execution_count": 45,
     "metadata": {},
     "output_type": "execute_result"
    }
   ],
   "source": [
    "# Resto de uma divisão\n",
    "resto = 30 % 4"
   ]
  },
  {
   "cell_type": "code",
   "execution_count": 46,
   "id": "812e4918",
   "metadata": {},
   "outputs": [
    {
     "data": {
      "text/plain": [
       "16"
      ]
     },
     "execution_count": 46,
     "metadata": {},
     "output_type": "execute_result"
    }
   ],
   "source": [
    "# Potência\n",
    "potência = 2^4"
   ]
  },
  {
   "cell_type": "markdown",
   "id": "2a4bb749",
   "metadata": {},
   "source": [
    "### Precedência nas operações aritmética"
   ]
  },
  {
   "cell_type": "markdown",
   "id": "99ceb90e",
   "metadata": {},
   "source": [
    "* Para que não ocorra ambiguidades ao olho humano, Julia ler as expressões da esquerda para direita"
   ]
  },
  {
   "cell_type": "markdown",
   "id": "152eb89f",
   "metadata": {},
   "source": [
    "**EXEMPLO**"
   ]
  },
  {
   "cell_type": "code",
   "execution_count": 50,
   "id": "87fca526",
   "metadata": {},
   "outputs": [
    {
     "data": {
      "text/plain": [
       "0.16666666666666666"
      ]
     },
     "execution_count": 50,
     "metadata": {},
     "output_type": "execute_result"
    }
   ],
   "source": [
    "1 / 2 / 3  # primeiro 1 divide 2 o resultado divide 3 : 0.5/3"
   ]
  },
  {
   "cell_type": "code",
   "execution_count": 52,
   "id": "643f1645",
   "metadata": {},
   "outputs": [
    {
     "data": {
      "text/plain": [
       "3"
      ]
     },
     "execution_count": 52,
     "metadata": {},
     "output_type": "execute_result"
    }
   ],
   "source": [
    "2 - 3 + 4 "
   ]
  },
  {
   "cell_type": "code",
   "execution_count": 22,
   "id": "7b00858d",
   "metadata": {},
   "outputs": [
    {
     "name": "stdout",
     "output_type": "stream",
     "text": [
      "2.5\n",
      "15\n"
     ]
    }
   ],
   "source": [
    "println( 3-2/4 )  # Podemos usar a função println para cálculos\n",
    "println( 3+2*9-6)"
   ]
  },
  {
   "cell_type": "markdown",
   "id": "be3c072b",
   "metadata": {},
   "source": [
    "Em Julia, como em  outras linguagens (em particular Matlab e Python), a ordem das operações aritméticas é a seguinte:\n",
    "* --- primeiro resolver o conteúdo entre parênteses\n",
    "--- depois a  exponenciação (este opera da direita a esquerda)\n",
    "--- depois multiplicação e divisão, da esquerda para direita\n",
    "--- finalmente, a adição e subtração, da esquerda para direita"
   ]
  },
  {
   "cell_type": "code",
   "execution_count": 58,
   "id": "6aa0d85e",
   "metadata": {},
   "outputs": [
    {
     "data": {
      "text/plain": [
       "6561"
      ]
     },
     "execution_count": 58,
     "metadata": {},
     "output_type": "execute_result"
    }
   ],
   "source": [
    "3^2^3   # que é o equivalente 3^(3^2)"
   ]
  },
  {
   "cell_type": "markdown",
   "id": "20925c1c",
   "metadata": {},
   "source": [
    "### Algumas funções matemáticas"
   ]
  },
  {
   "cell_type": "code",
   "execution_count": 14,
   "id": "c66761cc",
   "metadata": {},
   "outputs": [
    {
     "data": {
      "text/plain": [
       "-2.0"
      ]
     },
     "execution_count": 14,
     "metadata": {},
     "output_type": "execute_result"
    }
   ],
   "source": [
    "x=-2.4\n",
    "abs(x)  # valor absoluto\n",
    "sin(x)\n",
    "cos(x)\n",
    "log(-x)\n",
    "log10(-x) \n",
    "round(x)  #.. use round(Int, x) para converter qq x de tipo real para inteiro\n",
    "floor(x)\n",
    "ceil(x)"
   ]
  },
  {
   "cell_type": "markdown",
   "id": "b2898d4e",
   "metadata": {},
   "source": [
    "###  Strings\n",
    "\n",
    "* Qualquer coisa\n",
    "escrita entre aspas duplas é uma **string** .Quase todo os caracteres do teclado como: letras, númer\n",
    "os ,.\n",
    "\n",
    "Por exemplo:"
   ]
  },
  {
   "cell_type": "code",
   "execution_count": 16,
   "id": "b7b3ae0c",
   "metadata": {},
   "outputs": [
    {
     "data": {
      "text/plain": [
       "\"abc!@#%^ .. kyking:;'<,>.?/\""
      ]
     },
     "execution_count": 16,
     "metadata": {},
     "output_type": "execute_result"
    }
   ],
   "source": [
    "\"abc!@#%^ .. kyking:;'<,>.?/\"   # string de caracteres..."
   ]
  },
  {
   "cell_type": "code",
   "execution_count": 18,
   "id": "63bf65f1",
   "metadata": {},
   "outputs": [
    {
     "name": "stdout",
     "output_type": "stream",
     "text": [
      "$\n"
     ]
    }
   ],
   "source": [
    "# com exceção  os caracteres \\ e $ \n",
    " \n",
    "println(\"\\$\")"
   ]
  },
  {
   "cell_type": "markdown",
   "id": "31d1b4a6",
   "metadata": {},
   "source": [
    "### Como atribuir String à uma variável"
   ]
  },
  {
   "cell_type": "code",
   "execution_count": 23,
   "id": "de174543",
   "metadata": {},
   "outputs": [
    {
     "data": {
      "text/plain": [
       "\"Eu sou uma string\""
      ]
     },
     "execution_count": 23,
     "metadata": {},
     "output_type": "execute_result"
    }
   ],
   "source": [
    "a1 = \"Eu sou uma string\""
   ]
  },
  {
   "cell_type": "code",
   "execution_count": 24,
   "id": "cc07a4fd",
   "metadata": {},
   "outputs": [
    {
     "data": {
      "text/plain": [
       "\" Eu também sou uma string. \""
      ]
     },
     "execution_count": 24,
     "metadata": {},
     "output_type": "execute_result"
    }
   ],
   "source": [
    "a2 =  \"\"\" Eu também sou uma string. \"\"\""
   ]
  },
  {
   "cell_type": "code",
   "execution_count": 25,
   "id": "bf6a0e23",
   "metadata": {},
   "outputs": [
    {
     "ename": "LoadError",
     "evalue": "\u001b[91msyntax: cannot juxtapose string literal\u001b[39m",
     "output_type": "error",
     "traceback": [
      "\u001b[91msyntax: cannot juxtapose string literal\u001b[39m",
      ""
     ]
    }
   ],
   "source": [
    "\" Nos cometemos um \"err\" assim \""
   ]
  },
  {
   "cell_type": "code",
   "execution_count": 26,
   "id": "4f6fd4b0",
   "metadata": {},
   "outputs": [
    {
     "data": {
      "text/plain": [
       "\"nos não cometemos um \\\"erro\\\" assim \""
      ]
     },
     "execution_count": 26,
     "metadata": {},
     "output_type": "execute_result"
    }
   ],
   "source": [
    "\n",
    "\"\"\"nos não cometemos um \"erro\" assim \"\"\""
   ]
  },
  {
   "cell_type": "code",
   "execution_count": 28,
   "id": "587a2afb",
   "metadata": {},
   "outputs": [
    {
     "data": {
      "text/plain": [
       "Char"
      ]
     },
     "execution_count": 28,
     "metadata": {},
     "output_type": "execute_result"
    }
   ],
   "source": [
    " # Caracter : definido ' '\n",
    "typeof('a')"
   ]
  },
  {
   "cell_type": "code",
   "execution_count": 29,
   "id": "d0752980",
   "metadata": {},
   "outputs": [
    {
     "ename": "LoadError",
     "evalue": "syntax: invalid character literal",
     "output_type": "error",
     "traceback": [
      "syntax: invalid character literal",
      ""
     ]
    }
   ],
   "source": [
    "' Erramos novamente '"
   ]
  },
  {
   "cell_type": "code",
   "execution_count": null,
   "id": "9acbb917",
   "metadata": {},
   "outputs": [],
   "source": []
  },
  {
   "cell_type": "markdown",
   "id": "0f4d4b2e",
   "metadata": {},
   "source": [
    "### Concatenação de string"
   ]
  },
  {
   "cell_type": "markdown",
   "id": "ab7e4ddc",
   "metadata": {},
   "source": [
    "Podemos inserir variáveis em uma string, usando $ "
   ]
  },
  {
   "cell_type": "code",
   "execution_count": 28,
   "id": "5a9f5b3d",
   "metadata": {},
   "outputs": [
    {
     "data": {
      "text/plain": [
       "8.0"
      ]
     },
     "execution_count": 28,
     "metadata": {},
     "output_type": "execute_result"
    }
   ],
   "source": [
    "nome = \"Ana\"\n",
    "idade = 10\n",
    "nota =  8.0\n"
   ]
  },
  {
   "cell_type": "code",
   "execution_count": 29,
   "id": "a4908703",
   "metadata": {},
   "outputs": [
    {
     "name": "stdout",
     "output_type": "stream",
     "text": [
      "Oi, me chamo Ana.\n",
      "Eu tenho  10. anos\n",
      "Isto é  18.0  !!\n"
     ]
    }
   ],
   "source": [
    "println(\"Oi, me chamo $nome.\")\n",
    "println(\"Eu tenho  $idade. anos\")\n",
    " println(\"Isto é  $(idade + nota)  !!\")\n",
    "# ## String concatenation"
   ]
  },
  {
   "cell_type": "code",
   "execution_count": 35,
   "id": "910badb4",
   "metadata": {},
   "outputs": [
    {
     "data": {
      "text/plain": [
       "10"
      ]
     },
     "execution_count": 35,
     "metadata": {},
     "output_type": "execute_result"
    }
   ],
   "source": [
    "# Abaixo, há 3 modos de como concatenar strings  <br><br>\n",
    "# Uma delas é  usar a função `string()`. <br>\n",
    "# `string()` converte entradas não-strings  para strings.\n",
    "a = \"Quantos gatinhos \";\n",
    "b = \" você têm?\";\n",
    "😺 = 10"
   ]
  },
  {
   "cell_type": "code",
   "execution_count": 36,
   "id": "1e0c5606",
   "metadata": {},
   "outputs": [
    {
     "data": {
      "text/plain": [
       "\"Quantos gatinhos  você têm?\""
      ]
     },
     "execution_count": 36,
     "metadata": {},
     "output_type": "execute_result"
    }
   ],
   "source": [
    "string(a,b)"
   ]
  },
  {
   "cell_type": "code",
   "execution_count": 31,
   "id": "80603b57",
   "metadata": {},
   "outputs": [
    {
     "data": {
      "text/plain": [
       "\"Eu não sei, mas Eu sou uma gatinha\""
      ]
     },
     "execution_count": 31,
     "metadata": {},
     "output_type": "execute_result"
    }
   ],
   "source": [
    "string(\"Eu não sei, mas \", 😺, )"
   ]
  },
  {
   "cell_type": "code",
   "execution_count": 38,
   "id": "383e0f71",
   "metadata": {},
   "outputs": [
    {
     "data": {
      "text/plain": [
       "\"Quantos gatinhos  você têm?\""
      ]
     },
     "execution_count": 38,
     "metadata": {},
     "output_type": "execute_result"
    }
   ],
   "source": [
    "# Podemos usar também * para concatenação\n",
    "\n",
    "a*b"
   ]
  },
  {
   "cell_type": "markdown",
   "id": "04241ee5",
   "metadata": {},
   "source": [
    "## Exercícios"
   ]
  },
  {
   "cell_type": "code",
   "execution_count": null,
   "id": "3ad7e4bf",
   "metadata": {},
   "outputs": [],
   "source": []
  },
  {
   "cell_type": "code",
   "execution_count": 32,
   "id": "f0b1b87b",
   "metadata": {},
   "outputs": [
    {
     "data": {
      "text/plain": [
       "-11.725000000000001"
      ]
     },
     "execution_count": 32,
     "metadata": {},
     "output_type": "execute_result"
    }
   ],
   "source": [
    " ## executar a saída de algumas expressões\n",
    "0.2 + 0.1 - 3 * 6.7 / 4 - 1 - 2 * 3    # usando uma forma deselegante de programar,\n",
    "### BAD CODE!  Isto é, mistura  valores Int64, e Float64!!"
   ]
  },
  {
   "cell_type": "markdown",
   "id": "d2e501cf",
   "metadata": {},
   "source": [
    "* 1) Como poderíamos obter a resposta acima, adicionando parênteses?\n",
    "* 2) Atribua `365` a variável ` dias `. Converta `dias` a uma número real (float) e atribua o à  variavel `dias_float`\n",
    "* 3) Crie uma string \"Oi\" 1000 vezes,  com o operador da exponenciação. Atribua a variável  oi.\n",
    "* 4) Declare 2 variáveis, use-as para criar 2 strings e guarde o resultado em c e d respectivamente.\n"
   ]
  },
  {
   "cell_type": "code",
   "execution_count": null,
   "id": "e4b95245",
   "metadata": {},
   "outputs": [],
   "source": []
  },
  {
   "cell_type": "code",
   "execution_count": null,
   "id": "b2c019d1",
   "metadata": {},
   "outputs": [],
   "source": []
  }
 ],
 "metadata": {
  "kernelspec": {
   "display_name": "Julia 1.4.2",
   "language": "julia",
   "name": "julia-1.4"
  },
  "language_info": {
   "file_extension": ".jl",
   "mimetype": "application/julia",
   "name": "julia",
   "version": "1.4.2"
  }
 },
 "nbformat": 4,
 "nbformat_minor": 5
}
